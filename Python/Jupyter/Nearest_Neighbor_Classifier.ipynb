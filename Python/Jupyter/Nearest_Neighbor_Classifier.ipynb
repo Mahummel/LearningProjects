{
 "cells": [
  {
   "cell_type": "markdown",
   "metadata": {},
   "source": [
    "<div style=\"font-weight: bold; font-size: 2rem; padding-top: 20px; margin: 20px 0; border-top: 2px solid #000;\">\n",
    "    Section 1.1: Nearest Neighbor Classifier\n",
    "</div>\n",
    "<div style=\"font-size: 1.5rem; line-height: 2.5rem; padding-bottom: 30px;\">\n",
    "    <strong>NN Classifier:</strong><br/>\n",
    "    AKA Memory based reasoning, and instance based classification<br/>\n",
    "    \"Non parametric method\": no assumptions about data are made<br/>\n",
    "    <ul>Multiple variations:\n",
    "        <li>k-NN method</li>\n",
    "        <li>Weighted k-NN method</li>\n",
    "        <li>Edited NN method</li>\n",
    "        <li>Locally adaptive NN method</li>\n",
    "    </ul><br/>\n",
    "    <strong>Basics:</strong><br/>\n",
    "    <ul>\n",
    "        <li>Store your training examples with labels in db</li>\n",
    "        <li>Find the best match for a given test example on training examples(nearest neighbor)</li>\n",
    "        <li>Class label given to test case is that of the best matching example</li>\n",
    "    </ul><br/>\n",
    "    k stands for the number of nearest neighbors, the higher count of the two is what classifies your sample<br/>\n",
    "    For example, k=3 means 3 closest neighbors, etc.<br/>\n",
    "    KNN for sklearn link available <a href=\"https://www.datacamp.com/community/tutorials/k-nearest-neighbor-classification-scikit-learn\">here</a>\n",
    "</div>"
   ]
  },
  {
   "cell_type": "code",
   "execution_count": 6,
   "metadata": {},
   "outputs": [
    {
     "data": {
      "image/png": "[encoded data removed]",
      "text/plain": [
       "<Figure size 432x288 with 1 Axes>"
      ]
     },
     "metadata": {
      "needs_background": "light"
     },
     "output_type": "display_data"
    }
   ],
   "source": [
    "import matplotlib.pyplot as plt\n",
    "import numpy as np\n",
    "from sklearn.datasets import make_blobs\n",
    "x, y = make_blobs(n_samples = 100, centers = 2, cluster_std = 4.0, random_state = 20)\n",
    "from sklearn.neighbors import KNeighborsClassifier #unless specified (n_neighbors = number), k = 5\n",
    "from sklearn.model_selection import train_test_split\n",
    "x_train, x_test, y_train, y_test = train_test_split(x, y, test_size=.05, random_state=42)\n",
    "plt.scatter(x_train[:, 0], x_train[:, 1], c=y_train, s = 20)\n",
    "plt.scatter(x_test[:, 0], x_test[:, 1], c='red', marker=\"D\", s = 80)\n",
    "plt.show()"
   ]
  },
  {
   "cell_type": "code",
   "execution_count": 8,
   "metadata": {},
   "outputs": [],
   "source": [
    "# Look up listed color map later\n",
    "from matplotlib.colors import ListedColormap\n",
    "cmap_light = ListedColormap(['#FFAAAA', '#AAFFAA', '#AAAAFF'])\n",
    "x_min, x_max = x[:, 0].min(), x[:, 1].max()\n"
   ]
  },
  {
   "cell_type": "markdown",
   "metadata": {},
   "source": [
    "<div style=\"font-size: 1.5rem; line-height: 2.5rem; padding-bottom: 30px; border-bottom: 2px solid #000;\">\n",
    "    Feature normalization should be implemented to prevent heavily weighted data points from skewing data<br/>\n",
    "    For small training sets (50-100 samples), take k = 1, for larger sets, take k as odd, and approx, 7,9,11.<br/>\n",
    "    Computationally expensive for larger subsets of data and features.<br/>\n",
    "    k-d tree: data structure for transversing high dimensional space <a href=\"https://www.cs.cmu.edu/~ckingsf/bioinfo-lectures/kdtrees.pdf\">Info Here</a><br/>\n",
    "</div>\n",
    "\n",
    "<div style=\"font-weight: bold; font-size: 2rem; padding-top: 20px; margin: 20px 0;\">\n",
    "    Section 1.2: Naive Bayes\n",
    "</div>\n",
    "<div style=\"font-size: 1.5rem; line-height: 2.5rem; padding-bottom: 30px; border-bottom: 2px solid #000;\">\n",
    "    <strong>Bayes Classifier</strong><br/>\n",
    "    Probabilistic framework, a <a href=\"https://towardsdatascience.com/a-generative-approach-to-classification-17a0b5876729\">generative approach</a>\n",
    "</div>\n",
    "\n",
    "${\\displaystyle{\n",
    "    \\text{Generic Bayes, independence} \\\\\n",
    "    P(A|B) = \\frac{P(B|A) * P(A)}{P(B)}\\\\\n",
    "    \\text{with d features } x_1,\\ldots,x_d \\\\\n",
    "    \\text{classified by } c_1,c_2 \\\\\n",
    "    P(c_j|x) = \\frac{P(x_1,\\ldots,x_d | c_j) * P(c_j)} {P(x_1,\\ldots,x_d)}, \\text{ j = 1, 2}\\\\\n",
    "}}$\n",
    "\n",
    "<div style=\"padding-top: 30px\">\n",
    "    NB if features are independent. Rarely true, but assumption helps simplifiy, with independent features, expression above \n",
    "    changes to:\n",
    "</div>\n",
    "\n",
    "${\\displaystyle{\n",
    "    \\text{dependence: } \\\\\n",
    "    P(c_j|x) = \\frac{P(c_j)\\Pi^d_{i=1} P(x_i|x_j)} {P(x_1,\\ldots,x_d)}, \\text{ j = 1,2} \\\\\n",
    "    \\text{Now, with only 10 discrete attributes, we need to calculate 1024 conditional probabilities,} \\\\\n",
    "    \\text{or 10 if we use previous equation on independence assumption} \\\\\n",
    "%     \\text{Assign } x \\rightarrow c_j \\text{ where } P(c_j)\\Pi^d_{i=1}P(x_i | c_j)\n",
    "}}$\n",
    "\n",
    "<div style=\"padding-top: 30px\">\n",
    "    <strong>Laplace Smoothing</strong><br/>\n",
    "    Idea is to modify probability formula to avoid 0s, either division or total probability:<br/>\n",
    "</div>\n",
    "\n",
    "${\\displaystyle{\n",
    "    \\text{Without Smoothing} \\\\\n",
    "    P_r(word_i|class_j) =\\frac{\\text{count_of_docs}(word_i,class_j)}{\\text{count_of_docs}(class_j)} \\\\\n",
    "    \\text{With Smoothing} \\\\\n",
    "    P_r(word_i|class_j) =\\frac{\\text{count_of_docs}(word_i,class_j) + 1}{\\text{count_of_docs}(class_j) + 2} \\\\\n",
    "    \\text{Taking Frequency Into Account, where V = size} \\\\\n",
    "    P_r(word_i|class_j) =\\frac{count(word_i,class_j) + 1}{\\sum_{k=1}^Vcount(word_k, class_j) + V}\n",
    "}}$\n",
    "\n",
    "<div style=\"padding-top: 30px\">\n",
    "    <strong>Naive Bayes</strong><br/>\n",
    "    <ul>Summary\n",
    "        <li>Fast</li>\n",
    "        <li>Linear classifier</li>\n",
    "        <li>Robust to noise points</li>\n",
    "        <li>Handles missing values</li>\n",
    "        <li>Robust to irrelevancy</li>\n",
    "    </ul>\n",
    "</div>\n",
    "\n",
    "<div style=\"font-weight: bold; font-size: 2rem; padding-top: 20px; margin: 20px 0;\">\n",
    "    Section 1.3: Fisher's Linear Discriminant Function\n",
    "</div>\n",
    "\n",
    "${\\displaystyle{\n",
    "    y_i = w^tx_i \\text{ Define the projection using w} \\\\\n",
    "    J(w) = \\frac{|\\tilde{m}_1 - \\tilde{m}_2|^2}{(\\tilde{s}_1^2 - \\tilde{s}_2^2)} \\\\\n",
    "    \\tilde{m} = \\text{ Projected means of training data points from two classes} \\\\\n",
    "    \\tilde{s} = \\text{ Projected varaiance of training data points from two classes} \n",
    "}}$\n",
    "\n",
    "\n",
    "<div style=\"font-size: 1.5rem; line-height: 2.5rem; padding: 30px; border-bottom: 2px solid #000;\">\n",
    "    LDA (Fisher's) uses dimensionality reduction, but also takes into account class labels (supervised)<br/>\n",
    "    PCA -> Maximizes Variance, LDA -> Maximizes class separation<br/>\n",
    "    <strong>FLD</strong><br/>\n",
    "    <ul>Summary\n",
    "        <li>FLD === LDA</li>\n",
    "        <li>Defines M classes by M-1 projections</li>\n",
    "        <li>Assumes features are independent and normally distributed</li>\n",
    "    </ul>\n",
    "</div>"
   ]
  }
 ],
 "metadata": {
  "kernelspec": {
   "display_name": "Python 3",
   "language": "python",
   "name": "python3"
  },
  "language_info": {
   "codemirror_mode": {
    "name": "ipython",
    "version": 3
   },
   "file_extension": ".py",
   "mimetype": "text/x-python",
   "name": "python",
   "nbconvert_exporter": "python",
   "pygments_lexer": "ipython3",
   "version": "3.8.4"
  }
 },
 "nbformat": 4,
 "nbformat_minor": 4
}
