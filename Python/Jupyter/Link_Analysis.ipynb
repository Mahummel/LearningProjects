{
 "cells": [
  {
   "cell_type": "markdown",
   "metadata": {},
   "source": [
    "# Recommender Systems and Collaborative Filtering\n",
    "\n",
    "## Demographic Filtering\n",
    "\n",
    "Performs clustering to base customers into segments for classification\\\n",
    "Goal is to assign the user to the segment containing he most similar customers\\\n",
    "Uses purchases and ratings of customers to provide recommendations.\n",
    "\n",
    "## Link Based Object Ranking\n",
    "\n",
    "Links on the web are either:\n",
    "  - A relates to B,\n",
    "  - A recommends,endorses B\n",
    "\n",
    "Meta Search Engines:\n",
    "- Engines that gather information from other search engines and piece together\n",
    "\n",
    "## Web search vs Info retrieval\n",
    "\n",
    "Web Search:\n",
    "  - Large Volume\n",
    "  - No Central site for documents\n",
    "  - Volatile Data\n",
    "  - Poor data quality: No quality control\n",
    "  - Heterogeneous Data\n",
    "  - Presence of Tags\n",
    "    - Identify and weigh terms\n",
    "    - Page Links for content matching\n",
    "    - Anchor Terms, for ranking results\n",
    "  - User Interactivity\n",
    "  - Range of Users\n",
    "\n",
    "## BiblioMetrics: Citation Analysis\n",
    "\n",
    "Many documents include *Bibliographys*\\\n",
    "*Bibliographic Coupling*: Measure of similarity of documents utilizing referenced sources\\\n",
    "Measure similarity on intersection of bibliographies, normalized based on number of references.\n",
    "\n",
    "Co-Citation: Search of number of documents that cite **BOTH** A **and** B\\\n",
    "Normalize by total number of documents citing **either** A **or** B.\n",
    "\n",
    "Impact Factor:\n",
    "  - Measure of importance by scientific journals\n",
    "  - Measures how often papers in the journal are cited by other scientists\n",
    "  - *Impact Factor* of journal *J* in year *Y* = average citations to a paper published *J* in year *Y-1* or *Y-2*\n",
    "\n",
    "H-Index: Impact Factor of an **Author**:\n",
    "  - Measures importance of an authors publications\n",
    "  - Defined as number of papers with number of citations $\\le$ h\n",
    "\n",
    "Hubs:\n",
    "  - Index pages that provide useful links to relevant content pages\n",
    "   - Points to lots of authorities\n",
    "\n",
    "## Page Rank: \n",
    "  - Ranking method used by google\n",
    "  - Ranks based on authority\n",
    "  - *Random Surfer Model*\n",
    "\n",
    "Simple Model:\n",
    "\n",
    "Each page transfers its importance evenly on all its outgoing links\\\n",
    "Creates a matrix representing weights of each evenly distributed link\\\n",
    " "
   ]
  }
 ],
 "metadata": {
  "interpreter": {
   "hash": "2db524e06e9f5f4ffedc911c917cb75e12dbc923643829bf417064a77eb14d37"
  },
  "kernelspec": {
   "display_name": "Python 3.8.4 64-bit",
   "language": "python",
   "name": "python3"
  },
  "language_info": {
   "codemirror_mode": {
    "name": "ipython",
    "version": 3
   },
   "file_extension": ".py",
   "mimetype": "text/x-python",
   "name": "python",
   "nbconvert_exporter": "python",
   "pygments_lexer": "ipython3",
   "version": "3.8.4"
  },
  "orig_nbformat": 4
 },
 "nbformat": 4,
 "nbformat_minor": 2
}
